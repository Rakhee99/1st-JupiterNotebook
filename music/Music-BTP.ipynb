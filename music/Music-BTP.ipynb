{
 "cells": [
  {
   "cell_type": "code",
   "execution_count": 1,
   "id": "6cb19e53",
   "metadata": {},
   "outputs": [],
   "source": [
    "import pandas as pd\n",
    "from sklearn.tree import DecisionTreeClassifier \n",
    "from sklearn.model_selection import train_test_split\n",
    "from sklearn.metrics import accuracy_score\n",
    "# from sklearn.externals import joblib"
   ]
  },
  {
   "cell_type": "markdown",
   "id": "34e852c4",
   "metadata": {},
   "source": [
    "## Building the model"
   ]
  },
  {
   "cell_type": "code",
   "execution_count": null,
   "id": "3906e826",
   "metadata": {},
   "outputs": [],
   "source": [
    "music_data= pd.read_csv('music.csv')\n",
    "X=music_data.drop(columns=['genre'])\n",
    "y= music_data['genre']\n",
    "music_data"
   ]
  },
  {
   "cell_type": "markdown",
   "id": "e4499af4",
   "metadata": {},
   "source": [
    "## Train and Predict the inferences"
   ]
  },
  {
   "cell_type": "code",
   "execution_count": 20,
   "id": "0c2a4f6a",
   "metadata": {},
   "outputs": [
    {
     "data": {
      "text/plain": [
       "array(['HipHop', 'Classical'], dtype=object)"
      ]
     },
     "execution_count": 20,
     "metadata": {},
     "output_type": "execute_result"
    }
   ],
   "source": [
    "model = DecisionTreeClassifier()\n",
    "model.fit(X,y)\n",
    "predictions = model.predict([[21,1],[33,0]])\n",
    "predictions"
   ]
  },
  {
   "cell_type": "markdown",
   "id": "16991347",
   "metadata": {},
   "source": [
    "## Calculating the Acccuracy"
   ]
  },
  {
   "cell_type": "code",
   "execution_count": 23,
   "id": "7f184d0f",
   "metadata": {},
   "outputs": [
    {
     "data": {
      "text/plain": [
       "1.0"
      ]
     },
     "execution_count": 23,
     "metadata": {},
     "output_type": "execute_result"
    }
   ],
   "source": [
    "X_train,X_test,y_train,y_test=train_test_split(X,y,test_size=0.2)\n",
    "model.fit(X_train,y_train)\n",
    "predictions = model.predict(X_test)\n",
    "score=accuracy_score(y_test,predictions)\n",
    "score"
   ]
  },
  {
   "cell_type": "code",
   "execution_count": null,
   "id": "facc0139",
   "metadata": {},
   "outputs": [],
   "source": []
  }
 ],
 "metadata": {
  "kernelspec": {
   "display_name": "conda_python3",
   "language": "python",
   "name": "conda_python3"
  },
  "language_info": {
   "codemirror_mode": {
    "name": "ipython",
    "version": 3
   },
   "file_extension": ".py",
   "mimetype": "text/x-python",
   "name": "python",
   "nbconvert_exporter": "python",
   "pygments_lexer": "ipython3",
   "version": "3.6.13"
  }
 },
 "nbformat": 4,
 "nbformat_minor": 5
}
